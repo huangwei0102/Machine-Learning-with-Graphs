{
 "cells": [
  {
   "cell_type": "code",
   "execution_count": 16,
   "metadata": {},
   "outputs": [],
   "source": [
    "import torch\n",
    "import torch.nn as nn\n",
    "\n",
    "from ogb.linkproppred import PygLinkPropPredDataset, Evaluator"
   ]
  },
  {
   "cell_type": "code",
   "execution_count": 2,
   "metadata": {},
   "outputs": [],
   "source": [
    "class LinkPredictor(torch.nn.Module):\n",
    "    def __init__(self, num_embedding, hidden_channels, out_channels, num_layers,\n",
    "                 dropout):\n",
    "        super(LinkPredictor, self).__init__()\n",
    "        \n",
    "        self.emb = nn.Embedding()\n",
    "\n",
    "        self.lins = torch.nn.ModuleList()\n",
    "        self.lins.append(torch.nn.Linear(in_channels, hidden_channels))\n",
    "        for _ in range(num_layers - 2):\n",
    "            self.lins.append(torch.nn.Linear(hidden_channels, hidden_channels))\n",
    "        self.lins.append(torch.nn.Linear(hidden_channels, out_channels))\n",
    "\n",
    "        self.dropout = dropout\n",
    "\n",
    "    def reset_parameters(self):\n",
    "        for lin in self.lins:\n",
    "            lin.reset_parameters()\n",
    "\n",
    "    def forward(self, x_i, x_j):\n",
    "        x = x_i * x_j\n",
    "        for lin in self.lins[:-1]:\n",
    "            x = lin(x)\n",
    "            x = F.relu(x)\n",
    "            x = F.dropout(x, p=self.dropout, training=self.training)\n",
    "        x = self.lins[-1](x)\n",
    "        return torch.sigmoid(x)"
   ]
  },
  {
   "cell_type": "code",
   "execution_count": 4,
   "metadata": {},
   "outputs": [],
   "source": [
    "device = 'cuda:0' if torch.cuda.is_available() else 'cpu'\n",
    "device = torch.device(device)\n",
    "\n",
    "dataset = PygLinkPropPredDataset(name='ogbl-ddi', root='../dataset')\n",
    "data = dataset[0]\n",
    "split_edge = dataset.get_edge_split()"
   ]
  },
  {
   "cell_type": "code",
   "execution_count": 17,
   "metadata": {},
   "outputs": [
    {
     "data": {
      "text/plain": [
       "{'train': {'edge': tensor([[4039, 2424],\n",
       "          [4039,  225],\n",
       "          [4039, 3901],\n",
       "          ...,\n",
       "          [ 647,  708],\n",
       "          [ 708,  338],\n",
       "          [ 835, 3554]])},\n",
       " 'valid': {'edge': tensor([[ 722,  548],\n",
       "          [ 874, 3436],\n",
       "          [ 838, 1587],\n",
       "          ...,\n",
       "          [3661, 3125],\n",
       "          [3272, 3330],\n",
       "          [1330,  776]]),\n",
       "  'edge_neg': tensor([[   0,   58],\n",
       "          [   0,   84],\n",
       "          [   0,   90],\n",
       "          ...,\n",
       "          [4162, 4180],\n",
       "          [4168, 4260],\n",
       "          [4180, 4221]])},\n",
       " 'test': {'edge': tensor([[2198, 1172],\n",
       "          [1205,  719],\n",
       "          [1818, 2866],\n",
       "          ...,\n",
       "          [ 326, 1109],\n",
       "          [ 911, 1250],\n",
       "          [4127, 2480]]),\n",
       "  'edge_neg': tensor([[   0,    2],\n",
       "          [   0,   16],\n",
       "          [   0,   42],\n",
       "          ...,\n",
       "          [4168, 4259],\n",
       "          [4208, 4245],\n",
       "          [4245, 4259]])}}"
      ]
     },
     "execution_count": 17,
     "metadata": {},
     "output_type": "execute_result"
    }
   ],
   "source": [
    "split_edge"
   ]
  },
  {
   "cell_type": "code",
   "execution_count": null,
   "metadata": {},
   "outputs": [],
   "source": []
  }
 ],
 "metadata": {
  "kernelspec": {
   "display_name": "Python 3",
   "language": "python",
   "name": "python3"
  },
  "language_info": {
   "codemirror_mode": {
    "name": "ipython",
    "version": 3
   },
   "file_extension": ".py",
   "mimetype": "text/x-python",
   "name": "python",
   "nbconvert_exporter": "python",
   "pygments_lexer": "ipython3",
   "version": "3.8.5"
  }
 },
 "nbformat": 4,
 "nbformat_minor": 4
}
