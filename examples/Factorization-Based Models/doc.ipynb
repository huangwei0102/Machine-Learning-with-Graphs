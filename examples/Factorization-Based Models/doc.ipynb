{
 "cells": [
  {
   "cell_type": "markdown",
   "metadata": {
    "collapsed": true,
    "pycharm": {
     "name": "#%% md\n"
    }
   },
   "source": [
    "## 1. Introduction\n",
    "极大的受到Dimensionality Reduction思想的影响，在图机器学习最早期的研究中涌现了一批基于Matrix Factorization的模型。这类模型往往以重建图的邻接矩阵为目标，学习各个节点的表示。在这篇文章中，我们将介绍其中三篇比较有代表性的工作，包括Graph Factorization<sup>[1]</sup>，GraRep<sup>[2]</sup>以及HOPE<sup>[3]</sup>。同时，在文章最后我们也提供了这三个模型的Pytorch Demo。因笔者能力有限，若有谬误，请不吝指正！\n",
    "\n",
    "## 2. Graph Factorization\n",
    "GF<sup>[1]</sup>是Google在13年的一篇文章，可以说是最早的图机器学习模型之一，因此它的思想在今天看来确实十分简单粗暴。\n",
    "\n",
    "我们直接上目标函数：\n",
    "\n",
    "$$f(Y, Z, \\lambda)=\\frac{1}{2} \\sum_{(i, j) \\in E}\\left(Y_{i j}-\\left\\langle Z_{i}, Z_{j}\\right\\rangle\\right)^{2}+\\frac{\\lambda}{2} \\sum_{i}\\left\\|Z_{i}\\right\\|^{2}$$\n",
    "\n",
    "\n",
    "[1] Amr Ahmed, Nino Shervashidze, Shravan Narayanamurthy,\n",
    "Vanja Josifovski, and Alexander J Smola. Distributed\n",
    "large-scale natural graph factorization. In\n",
    "Proceedings of the 22nd international conference on\n",
    "World Wide Web, pages 37–48, 2013.\n",
    "\n",
    "[2] Shaosheng Cao, Wei Lu, and Qiongkai Xu. Grarep:\n",
    "Learning graph representations with global structural\n",
    "information. In Proceedings of the 24th ACM international\n",
    "on conference on information and knowledge\n",
    "management, pages 891–900, 2015.\n",
    "\n",
    "[3] Mingdong Ou, Peng Cui, Jian Pei, Ziwei Zhang,\n",
    "and Wenwu Zhu. Asymmetric transitivity preserving\n",
    "graph embedding. In Proceedings of the 22nd ACM\n",
    "SIGKDD international conference on Knowledge discovery\n",
    "and data mining, pages 1105–1114, 2016."
   ]
  }
 ],
 "metadata": {
  "kernelspec": {
   "display_name": "Python 3",
   "language": "python",
   "name": "python3"
  },
  "language_info": {
   "codemirror_mode": {
    "name": "ipython",
    "version": 2
   },
   "file_extension": ".py",
   "mimetype": "text/x-python",
   "name": "python",
   "nbconvert_exporter": "python",
   "pygments_lexer": "ipython2",
   "version": "2.7.6"
  }
 },
 "nbformat": 4,
 "nbformat_minor": 0
}